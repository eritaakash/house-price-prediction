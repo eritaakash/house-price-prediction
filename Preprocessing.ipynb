{
 "cells": [
  {
   "cell_type": "markdown",
   "metadata": {},
   "source": [
    "## Preprocessing \n",
    "\n",
    "Let's analyze and cleanse the data with some preprocessing tasks before training our model."
   ]
  },
  {
   "cell_type": "code",
   "execution_count": 87,
   "metadata": {},
   "outputs": [],
   "source": [
    "import pandas as pd \n",
    "import matplotlib.pyplot as plt \n",
    "import seaborn as sns \n",
    "import numpy as np"
   ]
  },
  {
   "cell_type": "code",
   "execution_count": 88,
   "metadata": {},
   "outputs": [],
   "source": [
    "data = pd.read_csv('House Price India.csv')"
   ]
  },
  {
   "cell_type": "code",
   "execution_count": 89,
   "metadata": {},
   "outputs": [
    {
     "data": {
      "text/html": [
       "<div>\n",
       "<style scoped>\n",
       "    .dataframe tbody tr th:only-of-type {\n",
       "        vertical-align: middle;\n",
       "    }\n",
       "\n",
       "    .dataframe tbody tr th {\n",
       "        vertical-align: top;\n",
       "    }\n",
       "\n",
       "    .dataframe thead th {\n",
       "        text-align: right;\n",
       "    }\n",
       "</style>\n",
       "<table border=\"1\" class=\"dataframe\">\n",
       "  <thead>\n",
       "    <tr style=\"text-align: right;\">\n",
       "      <th></th>\n",
       "      <th>id</th>\n",
       "      <th>Date</th>\n",
       "      <th>number of bedrooms</th>\n",
       "      <th>number of bathrooms</th>\n",
       "      <th>living area</th>\n",
       "      <th>lot area</th>\n",
       "      <th>number of floors</th>\n",
       "      <th>waterfront present</th>\n",
       "      <th>number of views</th>\n",
       "      <th>condition of the house</th>\n",
       "      <th>...</th>\n",
       "      <th>Built Year</th>\n",
       "      <th>Renovation Year</th>\n",
       "      <th>Postal Code</th>\n",
       "      <th>Lattitude</th>\n",
       "      <th>Longitude</th>\n",
       "      <th>living_area_renov</th>\n",
       "      <th>lot_area_renov</th>\n",
       "      <th>Number of schools nearby</th>\n",
       "      <th>Distance from the airport</th>\n",
       "      <th>Price</th>\n",
       "    </tr>\n",
       "  </thead>\n",
       "  <tbody>\n",
       "    <tr>\n",
       "      <th>0</th>\n",
       "      <td>6762810635</td>\n",
       "      <td>42491</td>\n",
       "      <td>4</td>\n",
       "      <td>2.50</td>\n",
       "      <td>2920</td>\n",
       "      <td>4000</td>\n",
       "      <td>1.5</td>\n",
       "      <td>0</td>\n",
       "      <td>0</td>\n",
       "      <td>5</td>\n",
       "      <td>...</td>\n",
       "      <td>1909</td>\n",
       "      <td>0</td>\n",
       "      <td>122004</td>\n",
       "      <td>52.8878</td>\n",
       "      <td>-114.470</td>\n",
       "      <td>2470</td>\n",
       "      <td>4000</td>\n",
       "      <td>2</td>\n",
       "      <td>51</td>\n",
       "      <td>1400000</td>\n",
       "    </tr>\n",
       "    <tr>\n",
       "      <th>1</th>\n",
       "      <td>6762810998</td>\n",
       "      <td>42491</td>\n",
       "      <td>5</td>\n",
       "      <td>2.75</td>\n",
       "      <td>2910</td>\n",
       "      <td>9480</td>\n",
       "      <td>1.5</td>\n",
       "      <td>0</td>\n",
       "      <td>0</td>\n",
       "      <td>3</td>\n",
       "      <td>...</td>\n",
       "      <td>1939</td>\n",
       "      <td>0</td>\n",
       "      <td>122004</td>\n",
       "      <td>52.8852</td>\n",
       "      <td>-114.468</td>\n",
       "      <td>2940</td>\n",
       "      <td>6600</td>\n",
       "      <td>1</td>\n",
       "      <td>53</td>\n",
       "      <td>1200000</td>\n",
       "    </tr>\n",
       "    <tr>\n",
       "      <th>2</th>\n",
       "      <td>6762812605</td>\n",
       "      <td>42491</td>\n",
       "      <td>4</td>\n",
       "      <td>2.50</td>\n",
       "      <td>3310</td>\n",
       "      <td>42998</td>\n",
       "      <td>2.0</td>\n",
       "      <td>0</td>\n",
       "      <td>0</td>\n",
       "      <td>3</td>\n",
       "      <td>...</td>\n",
       "      <td>2001</td>\n",
       "      <td>0</td>\n",
       "      <td>122005</td>\n",
       "      <td>52.9532</td>\n",
       "      <td>-114.321</td>\n",
       "      <td>3350</td>\n",
       "      <td>42847</td>\n",
       "      <td>3</td>\n",
       "      <td>76</td>\n",
       "      <td>838000</td>\n",
       "    </tr>\n",
       "    <tr>\n",
       "      <th>3</th>\n",
       "      <td>6762812919</td>\n",
       "      <td>42491</td>\n",
       "      <td>3</td>\n",
       "      <td>2.00</td>\n",
       "      <td>2710</td>\n",
       "      <td>4500</td>\n",
       "      <td>1.5</td>\n",
       "      <td>0</td>\n",
       "      <td>0</td>\n",
       "      <td>4</td>\n",
       "      <td>...</td>\n",
       "      <td>1929</td>\n",
       "      <td>0</td>\n",
       "      <td>122006</td>\n",
       "      <td>52.9047</td>\n",
       "      <td>-114.485</td>\n",
       "      <td>2060</td>\n",
       "      <td>4500</td>\n",
       "      <td>1</td>\n",
       "      <td>51</td>\n",
       "      <td>805000</td>\n",
       "    </tr>\n",
       "    <tr>\n",
       "      <th>4</th>\n",
       "      <td>6762813105</td>\n",
       "      <td>42491</td>\n",
       "      <td>3</td>\n",
       "      <td>2.50</td>\n",
       "      <td>2600</td>\n",
       "      <td>4750</td>\n",
       "      <td>1.0</td>\n",
       "      <td>0</td>\n",
       "      <td>0</td>\n",
       "      <td>4</td>\n",
       "      <td>...</td>\n",
       "      <td>1951</td>\n",
       "      <td>0</td>\n",
       "      <td>122007</td>\n",
       "      <td>52.9133</td>\n",
       "      <td>-114.590</td>\n",
       "      <td>2380</td>\n",
       "      <td>4750</td>\n",
       "      <td>1</td>\n",
       "      <td>67</td>\n",
       "      <td>790000</td>\n",
       "    </tr>\n",
       "  </tbody>\n",
       "</table>\n",
       "<p>5 rows × 23 columns</p>\n",
       "</div>"
      ],
      "text/plain": [
       "           id   Date  number of bedrooms  number of bathrooms  living area  \\\n",
       "0  6762810635  42491                   4                 2.50         2920   \n",
       "1  6762810998  42491                   5                 2.75         2910   \n",
       "2  6762812605  42491                   4                 2.50         3310   \n",
       "3  6762812919  42491                   3                 2.00         2710   \n",
       "4  6762813105  42491                   3                 2.50         2600   \n",
       "\n",
       "   lot area  number of floors  waterfront present  number of views  \\\n",
       "0      4000               1.5                   0                0   \n",
       "1      9480               1.5                   0                0   \n",
       "2     42998               2.0                   0                0   \n",
       "3      4500               1.5                   0                0   \n",
       "4      4750               1.0                   0                0   \n",
       "\n",
       "   condition of the house  ...  Built Year  Renovation Year  Postal Code  \\\n",
       "0                       5  ...        1909                0       122004   \n",
       "1                       3  ...        1939                0       122004   \n",
       "2                       3  ...        2001                0       122005   \n",
       "3                       4  ...        1929                0       122006   \n",
       "4                       4  ...        1951                0       122007   \n",
       "\n",
       "   Lattitude  Longitude  living_area_renov  lot_area_renov  \\\n",
       "0    52.8878   -114.470               2470            4000   \n",
       "1    52.8852   -114.468               2940            6600   \n",
       "2    52.9532   -114.321               3350           42847   \n",
       "3    52.9047   -114.485               2060            4500   \n",
       "4    52.9133   -114.590               2380            4750   \n",
       "\n",
       "   Number of schools nearby  Distance from the airport    Price  \n",
       "0                         2                         51  1400000  \n",
       "1                         1                         53  1200000  \n",
       "2                         3                         76   838000  \n",
       "3                         1                         51   805000  \n",
       "4                         1                         67   790000  \n",
       "\n",
       "[5 rows x 23 columns]"
      ]
     },
     "execution_count": 89,
     "metadata": {},
     "output_type": "execute_result"
    }
   ],
   "source": [
    "data.head()"
   ]
  },
  {
   "cell_type": "code",
   "execution_count": 90,
   "metadata": {},
   "outputs": [
    {
     "data": {
      "text/plain": [
       "(14619, 23)"
      ]
     },
     "execution_count": 90,
     "metadata": {},
     "output_type": "execute_result"
    }
   ],
   "source": [
    "data.shape"
   ]
  },
  {
   "cell_type": "code",
   "execution_count": 91,
   "metadata": {},
   "outputs": [
    {
     "data": {
      "text/plain": [
       "id                                         int64\n",
       "Date                                       int64\n",
       "number of bedrooms                         int64\n",
       "number of bathrooms                      float64\n",
       "living area                                int64\n",
       "lot area                                   int64\n",
       "number of floors                         float64\n",
       "waterfront present                         int64\n",
       "number of views                            int64\n",
       "condition of the house                     int64\n",
       "grade of the house                         int64\n",
       "Area of the house(excluding basement)      int64\n",
       "Area of the basement                       int64\n",
       "Built Year                                 int64\n",
       "Renovation Year                            int64\n",
       "Postal Code                                int64\n",
       "Lattitude                                float64\n",
       "Longitude                                float64\n",
       "living_area_renov                          int64\n",
       "lot_area_renov                             int64\n",
       "Number of schools nearby                   int64\n",
       "Distance from the airport                  int64\n",
       "Price                                      int64\n",
       "dtype: object"
      ]
     },
     "execution_count": 91,
     "metadata": {},
     "output_type": "execute_result"
    }
   ],
   "source": [
    "data.dtypes"
   ]
  },
  {
   "cell_type": "code",
   "execution_count": 92,
   "metadata": {},
   "outputs": [
    {
     "data": {
      "text/plain": [
       "id                                       0\n",
       "Date                                     0\n",
       "number of bedrooms                       0\n",
       "number of bathrooms                      0\n",
       "living area                              0\n",
       "lot area                                 0\n",
       "number of floors                         0\n",
       "waterfront present                       0\n",
       "number of views                          0\n",
       "condition of the house                   0\n",
       "grade of the house                       0\n",
       "Area of the house(excluding basement)    0\n",
       "Area of the basement                     0\n",
       "Built Year                               0\n",
       "Renovation Year                          0\n",
       "Postal Code                              0\n",
       "Lattitude                                0\n",
       "Longitude                                0\n",
       "living_area_renov                        0\n",
       "lot_area_renov                           0\n",
       "Number of schools nearby                 0\n",
       "Distance from the airport                0\n",
       "Price                                    0\n",
       "dtype: int64"
      ]
     },
     "execution_count": 92,
     "metadata": {},
     "output_type": "execute_result"
    }
   ],
   "source": [
    "data.isnull().sum()"
   ]
  },
  {
   "cell_type": "markdown",
   "metadata": {},
   "source": [
    "#### Observations:\n",
    "\n",
    "1. Data has 23 Columns and 14619 Rows.\n",
    "2. Data has no `null` values.\n",
    "3. None of the variables is an object."
   ]
  },
  {
   "cell_type": "markdown",
   "metadata": {},
   "source": [
    "### Modifying Columns"
   ]
  },
  {
   "cell_type": "code",
   "execution_count": 93,
   "metadata": {},
   "outputs": [],
   "source": [
    "data_dict = {\n",
    "    'number of bedrooms': 'bedroom_count',\n",
    "    'number of bathrooms': 'bathroom_count',\n",
    "    'living area': 'living_area',\n",
    "    'lot area': 'lot_area',\n",
    "    'number of floors': 'floor_count',\n",
    "    'waterfront present': 'has_waterfront',\n",
    "    'condition of the house': 'house_condition',\n",
    "    'grade of the house': 'house_grade',\n",
    "    'Area of the house(excluding basement)': 'house_area',\n",
    "    'Area of the basement': 'basement_area',\n",
    "    'Built Year': 'build_year',\n",
    "    'Renovation Year': 'renovation_year',\n",
    "    'Lattitude': 'latitude',\n",
    "    'Longitude': 'longitude',\n",
    "    # 'living_area_renov': '',\n",
    "    # 'lot_area_renov': '',\n",
    "    'Number of schools nearby': 'schools_nearby',\n",
    "    'Distance from the airport': 'airport_distance',\n",
    "    'Price': 'price'\n",
    "}\n",
    "\n",
    "data = data.drop(columns=['id', 'Date', 'number of views', 'Postal Code'])\n",
    "data = data.rename(columns=data_dict)"
   ]
  },
  {
   "cell_type": "markdown",
   "metadata": {},
   "source": [
    "### Outlier Treatment"
   ]
  },
  {
   "cell_type": "code",
   "execution_count": 94,
   "metadata": {},
   "outputs": [],
   "source": [
    "def treat_outliers(dataset, col):\n",
    "\n",
    "    seg = dataset[col]\n",
    "    max_val = max(seg)\n",
    "\n",
    "    q1, q3 = seg.quantile(0.25), seg.quantile(0.75)\n",
    "    iqr = q3 - q1 \n",
    "\n",
    "    upper_bound = q3 + 1.5 * iqr \n",
    "    lower_bound = q1 - 1.5 * iqr\n",
    "\n",
    "\n",
    "    def treatment(val):\n",
    "        if val > upper_bound: return upper_bound\n",
    "        elif val < lower_bound: return lower_bound\n",
    "        else: return val\n",
    "\n",
    "\n",
    "    if max_val > upper_bound:\n",
    "        print(f'[Y]: Outliers treated in {col}')\n",
    "        dataset[col] = dataset[col].map(treatment)\n",
    "    else:\n",
    "        print(f'[N]: No outliers are present in {col}')"
   ]
  },
  {
   "cell_type": "code",
   "execution_count": 95,
   "metadata": {},
   "outputs": [
    {
     "name": "stdout",
     "output_type": "stream",
     "text": [
      "[Y]: Outliers treated in bedroom_count\n",
      "[Y]: Outliers treated in bathroom_count\n",
      "[Y]: Outliers treated in living_area\n",
      "[Y]: Outliers treated in lot_area\n",
      "[N]: No outliers are present in floor_count\n",
      "[Y]: Outliers treated in has_waterfront\n",
      "[N]: No outliers are present in house_condition\n",
      "[Y]: Outliers treated in house_grade\n",
      "[Y]: Outliers treated in house_area\n",
      "[Y]: Outliers treated in basement_area\n",
      "[N]: No outliers are present in build_year\n",
      "[Y]: Outliers treated in renovation_year\n",
      "[N]: No outliers are present in latitude\n",
      "[Y]: Outliers treated in longitude\n",
      "[Y]: Outliers treated in living_area_renov\n",
      "[Y]: Outliers treated in lot_area_renov\n",
      "[N]: No outliers are present in schools_nearby\n",
      "[N]: No outliers are present in airport_distance\n",
      "[Y]: Outliers treated in price\n"
     ]
    }
   ],
   "source": [
    "for col in data.columns:\n",
    "    treat_outliers(data, col)"
   ]
  },
  {
   "cell_type": "markdown",
   "metadata": {},
   "source": [
    "### Feature Engineering"
   ]
  },
  {
   "cell_type": "code",
   "execution_count": 96,
   "metadata": {},
   "outputs": [],
   "source": [
    "data = data.drop(columns=['renovation_year'])\n",
    "data['house_age'] = 2024 - data['build_year']"
   ]
  },
  {
   "cell_type": "markdown",
   "metadata": {},
   "source": [
    "### Correlation Analysis"
   ]
  },
  {
   "cell_type": "code",
   "execution_count": 97,
   "metadata": {},
   "outputs": [
    {
     "name": "stdout",
     "output_type": "stream",
     "text": [
      "('living_area', 'house_area')\n",
      "('lot_area', 'lot_area_renov')\n",
      "('house_area', 'living_area')\n",
      "('build_year', 'house_age')\n",
      "('lot_area_renov', 'lot_area')\n",
      "('house_age', 'build_year')\n"
     ]
    }
   ],
   "source": [
    "threshold = 0.8\n",
    "high_correlation_pairs = []\n",
    "correlation_matrix = data.corr()\n",
    "\n",
    "for col in correlation_matrix.columns:\n",
    "    for idx in correlation_matrix.index:\n",
    "        if col != idx and abs(correlation_matrix.loc[idx, col]) > threshold:\n",
    "            high_correlation_pairs.append((col, idx))\n",
    "            \n",
    "\n",
    "for pair in high_correlation_pairs:\n",
    "    print(pair)"
   ]
  },
  {
   "cell_type": "code",
   "execution_count": 98,
   "metadata": {},
   "outputs": [],
   "source": [
    "data = data.drop(columns=['lot_area_renov', 'living_area'])"
   ]
  },
  {
   "cell_type": "markdown",
   "metadata": {},
   "source": [
    "### Fixing Skewness"
   ]
  },
  {
   "cell_type": "code",
   "execution_count": 99,
   "metadata": {},
   "outputs": [
    {
     "data": {
      "text/plain": [
       "<Axes: xlabel='price', ylabel='Count'>"
      ]
     },
     "execution_count": 99,
     "metadata": {},
     "output_type": "execute_result"
    },
    {
     "data": {
      "image/png": "[encoded data removed]",
      "text/plain": [
       "<Figure size 640x480 with 1 Axes>"
      ]
     },
     "metadata": {},
     "output_type": "display_data"
    }
   ],
   "source": [
    "sns.histplot(data['price'], kde=True)"
   ]
  },
  {
   "cell_type": "code",
   "execution_count": 100,
   "metadata": {},
   "outputs": [
    {
     "data": {
      "text/plain": [
       "bedroom_count        0.231506\n",
       "bathroom_count       0.029970\n",
       "lot_area             0.855573\n",
       "floor_count          0.586324\n",
       "has_waterfront       0.000000\n",
       "house_condition      1.018148\n",
       "house_grade          0.265677\n",
       "house_area           0.910064\n",
       "basement_area        1.217036\n",
       "build_year          -0.472187\n",
       "latitude            -0.523730\n",
       "longitude            0.672612\n",
       "living_area_renov    0.784593\n",
       "schools_nearby      -0.022522\n",
       "airport_distance     0.005987\n",
       "price                0.940920\n",
       "house_age            0.472187\n",
       "dtype: float64"
      ]
     },
     "execution_count": 100,
     "metadata": {},
     "output_type": "execute_result"
    }
   ],
   "source": [
    "data.skew()"
   ]
  },
  {
   "cell_type": "code",
   "execution_count": 101,
   "metadata": {},
   "outputs": [
    {
     "name": "stdout",
     "output_type": "stream",
     "text": [
      "[T]: sqrt transformed bedroom_count\n",
      "[T]: sqrt transformed bathroom_count\n",
      "[T]: sqrt transformed lot_area\n",
      "[T]: sqrt transformed floor_count\n",
      "[T]: sqrt transformed has_waterfront\n",
      "[T]: sqrt transformed house_condition\n",
      "[T]: sqrt transformed house_grade\n",
      "[T]: sqrt transformed house_area\n",
      "[T]: sqrt transformed basement_area\n",
      "[T]: sqrt transformed build_year\n",
      "[T]: sqrt transformed latitude\n",
      "[T]: sqrt transformed longitude\n",
      "[T]: sqrt transformed living_area_renov\n",
      "[T]: sqrt transformed schools_nearby\n",
      "[T]: sqrt transformed airport_distance\n",
      "[T]: sqrt transformed price\n",
      "[T]: sqrt transformed house_age\n"
     ]
    }
   ],
   "source": [
    "for col in data.columns:\n",
    "    data[col] = np.sqrt(np.abs(data[col]))\n",
    "    print(f'[T]: sqrt transformed {col}')"
   ]
  },
  {
   "cell_type": "code",
   "execution_count": 102,
   "metadata": {},
   "outputs": [
    {
     "data": {
      "text/plain": [
       "<Axes: xlabel='price', ylabel='Count'>"
      ]
     },
     "execution_count": 102,
     "metadata": {},
     "output_type": "execute_result"
    },
    {
     "data": {
      "image/png": "[encoded data removed]",
      "text/plain": [
       "<Figure size 640x480 with 1 Axes>"
      ]
     },
     "metadata": {},
     "output_type": "display_data"
    }
   ],
   "source": [
    "sns.histplot(data['price'], kde=True)"
   ]
  },
  {
   "cell_type": "code",
   "execution_count": 103,
   "metadata": {},
   "outputs": [
    {
     "data": {
      "text/html": [
       "<div>\n",
       "<style scoped>\n",
       "    .dataframe tbody tr th:only-of-type {\n",
       "        vertical-align: middle;\n",
       "    }\n",
       "\n",
       "    .dataframe tbody tr th {\n",
       "        vertical-align: top;\n",
       "    }\n",
       "\n",
       "    .dataframe thead th {\n",
       "        text-align: right;\n",
       "    }\n",
       "</style>\n",
       "<table border=\"1\" class=\"dataframe\">\n",
       "  <thead>\n",
       "    <tr style=\"text-align: right;\">\n",
       "      <th></th>\n",
       "      <th>bedroom_count</th>\n",
       "      <th>bathroom_count</th>\n",
       "      <th>lot_area</th>\n",
       "      <th>floor_count</th>\n",
       "      <th>has_waterfront</th>\n",
       "      <th>house_condition</th>\n",
       "      <th>house_grade</th>\n",
       "      <th>house_area</th>\n",
       "      <th>basement_area</th>\n",
       "      <th>build_year</th>\n",
       "      <th>latitude</th>\n",
       "      <th>longitude</th>\n",
       "      <th>living_area_renov</th>\n",
       "      <th>schools_nearby</th>\n",
       "      <th>airport_distance</th>\n",
       "      <th>price</th>\n",
       "      <th>house_age</th>\n",
       "    </tr>\n",
       "  </thead>\n",
       "  <tbody>\n",
       "    <tr>\n",
       "      <th>0</th>\n",
       "      <td>2.000000</td>\n",
       "      <td>1.581139</td>\n",
       "      <td>63.245553</td>\n",
       "      <td>1.224745</td>\n",
       "      <td>0.0</td>\n",
       "      <td>2.236068</td>\n",
       "      <td>2.828427</td>\n",
       "      <td>43.703547</td>\n",
       "      <td>31.780497</td>\n",
       "      <td>43.692105</td>\n",
       "      <td>7.272400</td>\n",
       "      <td>10.699065</td>\n",
       "      <td>49.699095</td>\n",
       "      <td>1.414214</td>\n",
       "      <td>7.141428</td>\n",
       "      <td>1064.189833</td>\n",
       "      <td>10.723805</td>\n",
       "    </tr>\n",
       "    <tr>\n",
       "      <th>1</th>\n",
       "      <td>2.236068</td>\n",
       "      <td>1.658312</td>\n",
       "      <td>97.365292</td>\n",
       "      <td>1.224745</td>\n",
       "      <td>0.0</td>\n",
       "      <td>1.732051</td>\n",
       "      <td>2.828427</td>\n",
       "      <td>53.944416</td>\n",
       "      <td>0.000000</td>\n",
       "      <td>44.034078</td>\n",
       "      <td>7.272221</td>\n",
       "      <td>10.698972</td>\n",
       "      <td>54.221767</td>\n",
       "      <td>1.000000</td>\n",
       "      <td>7.280110</td>\n",
       "      <td>1064.189833</td>\n",
       "      <td>9.219544</td>\n",
       "    </tr>\n",
       "    <tr>\n",
       "      <th>2</th>\n",
       "      <td>2.000000</td>\n",
       "      <td>1.581139</td>\n",
       "      <td>139.585995</td>\n",
       "      <td>1.414214</td>\n",
       "      <td>0.0</td>\n",
       "      <td>1.732051</td>\n",
       "      <td>3.000000</td>\n",
       "      <td>57.532599</td>\n",
       "      <td>0.000000</td>\n",
       "      <td>44.732538</td>\n",
       "      <td>7.276895</td>\n",
       "      <td>10.692100</td>\n",
       "      <td>57.879185</td>\n",
       "      <td>1.732051</td>\n",
       "      <td>8.717798</td>\n",
       "      <td>915.423399</td>\n",
       "      <td>4.795832</td>\n",
       "    </tr>\n",
       "    <tr>\n",
       "      <th>3</th>\n",
       "      <td>1.732051</td>\n",
       "      <td>1.414214</td>\n",
       "      <td>67.082039</td>\n",
       "      <td>1.224745</td>\n",
       "      <td>0.0</td>\n",
       "      <td>2.000000</td>\n",
       "      <td>2.828427</td>\n",
       "      <td>43.358967</td>\n",
       "      <td>28.809721</td>\n",
       "      <td>43.920383</td>\n",
       "      <td>7.273562</td>\n",
       "      <td>10.699766</td>\n",
       "      <td>45.387223</td>\n",
       "      <td>1.000000</td>\n",
       "      <td>7.141428</td>\n",
       "      <td>897.217922</td>\n",
       "      <td>9.746794</td>\n",
       "    </tr>\n",
       "    <tr>\n",
       "      <th>4</th>\n",
       "      <td>1.732051</td>\n",
       "      <td>1.581139</td>\n",
       "      <td>68.920244</td>\n",
       "      <td>1.000000</td>\n",
       "      <td>0.0</td>\n",
       "      <td>2.000000</td>\n",
       "      <td>3.000000</td>\n",
       "      <td>41.231056</td>\n",
       "      <td>30.000000</td>\n",
       "      <td>44.170126</td>\n",
       "      <td>7.274153</td>\n",
       "      <td>10.704672</td>\n",
       "      <td>48.785244</td>\n",
       "      <td>1.000000</td>\n",
       "      <td>8.185353</td>\n",
       "      <td>888.819442</td>\n",
       "      <td>8.544004</td>\n",
       "    </tr>\n",
       "  </tbody>\n",
       "</table>\n",
       "</div>"
      ],
      "text/plain": [
       "   bedroom_count  bathroom_count    lot_area  floor_count  has_waterfront  \\\n",
       "0       2.000000        1.581139   63.245553     1.224745             0.0   \n",
       "1       2.236068        1.658312   97.365292     1.224745             0.0   \n",
       "2       2.000000        1.581139  139.585995     1.414214             0.0   \n",
       "3       1.732051        1.414214   67.082039     1.224745             0.0   \n",
       "4       1.732051        1.581139   68.920244     1.000000             0.0   \n",
       "\n",
       "   house_condition  house_grade  house_area  basement_area  build_year  \\\n",
       "0         2.236068     2.828427   43.703547      31.780497   43.692105   \n",
       "1         1.732051     2.828427   53.944416       0.000000   44.034078   \n",
       "2         1.732051     3.000000   57.532599       0.000000   44.732538   \n",
       "3         2.000000     2.828427   43.358967      28.809721   43.920383   \n",
       "4         2.000000     3.000000   41.231056      30.000000   44.170126   \n",
       "\n",
       "   latitude  longitude  living_area_renov  schools_nearby  airport_distance  \\\n",
       "0  7.272400  10.699065          49.699095        1.414214          7.141428   \n",
       "1  7.272221  10.698972          54.221767        1.000000          7.280110   \n",
       "2  7.276895  10.692100          57.879185        1.732051          8.717798   \n",
       "3  7.273562  10.699766          45.387223        1.000000          7.141428   \n",
       "4  7.274153  10.704672          48.785244        1.000000          8.185353   \n",
       "\n",
       "         price  house_age  \n",
       "0  1064.189833  10.723805  \n",
       "1  1064.189833   9.219544  \n",
       "2   915.423399   4.795832  \n",
       "3   897.217922   9.746794  \n",
       "4   888.819442   8.544004  "
      ]
     },
     "execution_count": 103,
     "metadata": {},
     "output_type": "execute_result"
    }
   ],
   "source": [
    "data.head()"
   ]
  },
  {
   "cell_type": "code",
   "execution_count": 104,
   "metadata": {},
   "outputs": [
    {
     "data": {
      "text/plain": [
       "bedroom_count       -0.104027\n",
       "bathroom_count      -0.315161\n",
       "lot_area             0.216773\n",
       "floor_count          0.382162\n",
       "has_waterfront       0.000000\n",
       "house_condition      0.785755\n",
       "house_grade          0.135787\n",
       "house_area           0.538934\n",
       "basement_area        0.721972\n",
       "build_year          -0.484664\n",
       "latitude            -0.525894\n",
       "longitude           -0.673858\n",
       "living_area_renov    0.455085\n",
       "schools_nearby      -0.181580\n",
       "airport_distance    -0.077298\n",
       "price                0.482973\n",
       "house_age            0.004510\n",
       "dtype: float64"
      ]
     },
     "execution_count": 104,
     "metadata": {},
     "output_type": "execute_result"
    }
   ],
   "source": [
    "data.skew()"
   ]
  },
  {
   "cell_type": "markdown",
   "metadata": {},
   "source": [
    "## Final Conclusion\n",
    "\n",
    "- There are no missing values \n",
    "- No variable is an object \n",
    "- Unuseful Columns Dropped\n",
    "- All outliers are treated\n",
    "- Removed highly correlated variables \n",
    "- Done Feature Engineering \n",
    "- Fixed Skewness to ensure Normal Distribution "
   ]
  },
  {
   "cell_type": "code",
   "execution_count": 105,
   "metadata": {},
   "outputs": [],
   "source": [
    "data.to_csv('house_price_data_cleaned.csv', index=False)"
   ]
  },
  {
   "cell_type": "code",
   "execution_count": 106,
   "metadata": {},
   "outputs": [
    {
     "data": {
      "text/plain": [
       "17"
      ]
     },
     "execution_count": 106,
     "metadata": {},
     "output_type": "execute_result"
    }
   ],
   "source": [
    "len(data.columns)"
   ]
  }
 ],
 "metadata": {
  "kernelspec": {
   "display_name": "Python 3",
   "language": "python",
   "name": "python3"
  },
  "language_info": {
   "codemirror_mode": {
    "name": "ipython",
    "version": 3
   },
   "file_extension": ".py",
   "mimetype": "text/x-python",
   "name": "python",
   "nbconvert_exporter": "python",
   "pygments_lexer": "ipython3",
   "version": "3.12.4"
  }
 },
 "nbformat": 4,
 "nbformat_minor": 2
}
